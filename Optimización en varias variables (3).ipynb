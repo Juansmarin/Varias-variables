{
 "cells": [
  {
   "cell_type": "markdown",
   "metadata": {},
   "source": [
    "<div style=\"background-color: #023324; \"><p><br></p>\n",
    "    <img src=\"https://www.uexternado.edu.co/wp-content/themes/externado_theme/images/logo-uec.svg\" alt=\"Universidad Externado\" width=\"150\" align=\"left\">\n",
    "         <h1  style=\"color: white;font-family:Lucida Sans Unicode, Lucida Grande, sans-serif\" align=\"center\">Optimización     </h1> \n",
    "<p><br></p>\n",
    "</div>    "
   ]
  },
  {
   "cell_type": "markdown",
   "metadata": {},
   "source": [
    "Para la optimización de funciones en varias variables, tenemos que seguir el siguiente proceso:\n",
    "\n",
    "1.  Definir la función\n",
    "2.  Definir las variables de nuestra función\n",
    "3.  Encontrar su vector gradiente\n",
    "4.  Encontrar sus puntos críticos\n",
    "5.  Clasificar cada uno de los puntos críticos hallados.\n",
    "6.  Hallar los valores máximos y mínimos de la función.\n",
    "\n",
    "Iniciamos el proceso, como siempre cargando el paquete indicado para nuestros cálculos."
   ]
  },
  {
   "cell_type": "code",
   "execution_count": null,
   "metadata": {},
   "outputs": [],
   "source": [
    "from sympy import * \n",
    "from sympy.plotting import * \n",
    "init_printing(use_latex=True)  "
   ]
  },
  {
   "cell_type": "markdown",
   "metadata": {},
   "source": [
    "Definimos las variables con las que vamos a trabajar nuestras funciones:"
   ]
  },
  {
   "cell_type": "code",
   "execution_count": null,
   "metadata": {},
   "outputs": [],
   "source": [
    "x,y,z,w = symbols(\"x,y,z,w\")"
   ]
  },
  {
   "cell_type": "markdown",
   "metadata": {},
   "source": [
    "# Definición de la función y el vector de sus varaibles"
   ]
  },
  {
   "cell_type": "code",
   "execution_count": null,
   "metadata": {},
   "outputs": [],
   "source": [
    "f=x**2+2*y**2-2*x-2*y+1\n",
    "f"
   ]
  },
  {
   "cell_type": "code",
   "execution_count": null,
   "metadata": {},
   "outputs": [],
   "source": [
    "X=[x,y]\n",
    "X"
   ]
  },
  {
   "cell_type": "markdown",
   "metadata": {},
   "source": [
    "El gradiente de una función ($\\nabla f$) en varias variables, es una lista que contiene a todas las derivadas parciales de primer orden de la función, observe que la lista tiene tantos elementos como las variables de la función.\n",
    "\n",
    "El gradiente de una función en dos variables es:\n",
    "\n",
    "$$\\nabla f = [f_x, f_y]$$\n",
    "\n",
    "El gradiente de una función en tres variables es:\n",
    "\n",
    "$$\\nabla f = [f_x, f_y, f_z]$$\n",
    "\n",
    "En general si la función tiene $n$ variables $x_1, x_2, ... , x_n$ tenemos que:\n",
    "\n",
    "$$\\nabla f = [f_{x_1}, f_{x_2}, ..., f_{x_n}]$$"
   ]
  },
  {
   "cell_type": "code",
   "execution_count": null,
   "metadata": {},
   "outputs": [],
   "source": [
    "fx=diff(f,x) # Derivada con respecto a x\n",
    "fx"
   ]
  },
  {
   "cell_type": "code",
   "execution_count": null,
   "metadata": {},
   "outputs": [],
   "source": [
    "fy=diff(f,y) # Derivada con respecto a y\n",
    "fy"
   ]
  },
  {
   "cell_type": "code",
   "execution_count": null,
   "metadata": {},
   "outputs": [],
   "source": [
    "Gf=[diff(f,x), diff(f,y)] # Vector gradiente de f\n",
    "Gf"
   ]
  },
  {
   "cell_type": "markdown",
   "metadata": {},
   "source": [
    "# Cálculo de puntos críticos\n",
    "\n",
    "Para calcular los puntos críticos de una función, posibles máximos o mínimos de una función, debemos encontrar los puntos que hacen que TODAS las primeras derivadas de la función se anulen, es decir, resolver el sistema de ecuaciones que iguala a cero cada una de las derivadas de primer orden de la función.\n",
    "\n",
    "$$\\nabla f =[f_x, f_y, f_z] =[0, 0, 0]$$\n",
    "\n",
    "para esto, usaremos el comando ```solve(Gf,X)```"
   ]
  },
  {
   "cell_type": "code",
   "execution_count": null,
   "metadata": {},
   "outputs": [],
   "source": [
    "solve([fx,fy],[x,y])"
   ]
  },
  {
   "cell_type": "code",
   "execution_count": null,
   "metadata": {},
   "outputs": [],
   "source": [
    "solve(Gf,X)"
   ]
  },
  {
   "cell_type": "markdown",
   "metadata": {},
   "source": [
    "Observe que en este caso el único punto crítico es el punto $\\left(1, \\cfrac{1}{2}\\right)$."
   ]
  },
  {
   "cell_type": "markdown",
   "metadata": {},
   "source": [
    "# Clasificación de puntos críticos\n",
    "\n",
    "Para clasificar los puntos críticos debemos hacer uso de TODAS las segundas derivadas del  función. Con ellas formaremos la matriz HESSIANA de la función.\n",
    "\n",
    "$$H(f)=\\left[ \\begin{array}{llll}\n",
    "           f_{x_1x_1}& f_{x_2x_1}&\\ldots& f_{x_nx_1}\\\\\n",
    "           f_{x_1x_2}& f_{x_2x_2}&\\ldots& f_{x_nx_2}\\\\\n",
    "           \\ \\ \\ \\vdots& \\ \\ \\ \\vdots& \\ \\ \\ \\vdots& \\ \\ \\ \\vdots\\\\\n",
    "           f_{x_1x_n}& f_{x_2x_n}&\\ldots& f_{x_nx_n}\n",
    "             \\end{array}\n",
    "   \\right].$$\n",
    "\n",
    "\n"
   ]
  },
  {
   "cell_type": "code",
   "execution_count": null,
   "metadata": {},
   "outputs": [],
   "source": [
    "Hf=Matrix([[diff(fx,x), diff(fx,y)],[diff(fy,x), diff(fy,y)]])\n",
    "Hf"
   ]
  },
  {
   "cell_type": "markdown",
   "metadata": {},
   "source": [
    "Debemos evaluar esta matriz en cada uno de los puntos críticos."
   ]
  },
  {
   "cell_type": "code",
   "execution_count": null,
   "metadata": {},
   "outputs": [],
   "source": [
    "Hf.subs([(x,1),(y,1/2)])"
   ]
  },
  {
   "cell_type": "markdown",
   "metadata": {},
   "source": [
    "Ahora calcularemos unos valores que depende de esta matriz, los llaman determinantes principales:\n",
    "\n"
   ]
  },
  {
   "cell_type": "code",
   "execution_count": null,
   "metadata": {},
   "outputs": [],
   "source": [
    "H1=Hf[0:1,0:1]\n",
    "H1"
   ]
  },
  {
   "cell_type": "code",
   "execution_count": null,
   "metadata": {},
   "outputs": [],
   "source": [
    "det(H1)"
   ]
  },
  {
   "cell_type": "code",
   "execution_count": null,
   "metadata": {},
   "outputs": [],
   "source": [
    "H2=Hf[0:2,0:2]\n",
    "H2"
   ]
  },
  {
   "cell_type": "code",
   "execution_count": null,
   "metadata": {},
   "outputs": [],
   "source": [
    "det(H2)"
   ]
  },
  {
   "cell_type": "markdown",
   "metadata": {},
   "source": [
    "El criterio dice que:\n",
    "\n",
    "*  Si todos los determinantes principales son positivos, el punto es un MÍNIMO.\n",
    "*  Si los determinantes principales alternas sus signos: negativo, positivo, negativo, positivo,... entonces el punto es un MÁXIMO.\n",
    "*  Para cualquier otros signos obtenidos, en punto es un punto de silla, un punto que no es máximo ni mínimo."
   ]
  },
  {
   "cell_type": "markdown",
   "metadata": {},
   "source": [
    "Esto quiere decir que el punto crítico de la función $\\left(1, \\cfrac{1}{2}\\right)$ es un MÍNIMO, pues obtuvimos que $H_1 > 0$ y $H_2 >0$.\n",
    "\n",
    "Por último, para calcular el valor mínimo de la función, debemos evaluar el punto crítico en la función ORIGINAL.\n"
   ]
  },
  {
   "cell_type": "code",
   "execution_count": null,
   "metadata": {},
   "outputs": [],
   "source": [
    "f.subs([(x,1),(y,1/2)])"
   ]
  },
  {
   "cell_type": "markdown",
   "metadata": {},
   "source": [
    "Esto quiere decir que el valor mínimo de la función es -0.5."
   ]
  },
  {
   "cell_type": "code",
   "execution_count": null,
   "metadata": {},
   "outputs": [],
   "source": [
    "plot3d(f, (x, -5, 5), (y, -5, 5))"
   ]
  },
  {
   "cell_type": "markdown",
   "metadata": {},
   "source": [
    "# Resumen del proceso"
   ]
  },
  {
   "cell_type": "code",
   "execution_count": null,
   "metadata": {},
   "outputs": [],
   "source": [
    "f=x**2+2*y**2-2*x-2*y+1 # Introducir la función\n",
    "print(f)\n",
    "X=[x,y] # Vector de variables\n",
    "Gf=[diff(f,x),diff(f,y)] # Vector gradiente\n",
    "print(Gf)\n",
    "pc=solve(Gf,X) # Cálculo de puntos críticos\n",
    "print(pc)\n",
    "Hf=Matrix([[diff(Gf[0],x), diff(Gf[0],y)],[diff(Gf[1],x), diff(Gf[1],y)]]) # Matriz Hessiana\n",
    "print(Hf)\n",
    "D1=det(Hf[0:1,0:1]) # Determinate principal 1\n",
    "print(D1)\n",
    "D2=det(Hf[0:2,0:2]) # Determinate principal 2\n",
    "print(D2)\n",
    "#Clasificar el punto según el criterio\n",
    "valor=f.subs([(x,1),(y,1/2)]) # Cálcular el valor mas-min de la función\n",
    "print(valor)"
   ]
  },
  {
   "cell_type": "markdown",
   "metadata": {},
   "source": [
    "### Ejercicios\n",
    "\n",
    "Optimizar las funciones:\n",
    "\n",
    "1. $f(x,y)=-x^2-2y^2-4x-8y+24$\n",
    "2. $g(x,y)=x^2+4xy+y^2$\n",
    "3. $h(x,y)=-x^4-32x+y^3-12y+7$"
   ]
  }
 ],
 "metadata": {
  "kernelspec": {
   "display_name": "Python 3",
   "language": "python",
   "name": "python3"
  },
  "language_info": {
   "codemirror_mode": {
    "name": "ipython",
    "version": 3
   },
   "file_extension": ".py",
   "mimetype": "text/x-python",
   "name": "python",
   "nbconvert_exporter": "python",
   "pygments_lexer": "ipython3",
   "version": "3.7.3"
  },
  "latex_envs": {
   "LaTeX_envs_menu_present": true,
   "autoclose": false,
   "autocomplete": true,
   "bibliofile": "biblio.bib",
   "cite_by": "apalike",
   "current_citInitial": 1,
   "eqLabelWithNumbers": true,
   "eqNumInitial": 1,
   "hotkeys": {
    "equation": "Ctrl-E",
    "itemize": "Ctrl-I"
   },
   "labels_anchors": false,
   "latex_user_defs": false,
   "report_style_numbering": false,
   "user_envs_cfg": false
  },
  "toc": {
   "base_numbering": 1,
   "nav_menu": {},
   "number_sections": true,
   "sideBar": true,
   "skip_h1_title": false,
   "title_cell": "Table of Contents",
   "title_sidebar": "Contents",
   "toc_cell": false,
   "toc_position": {},
   "toc_section_display": true,
   "toc_window_display": false
  }
 },
 "nbformat": 4,
 "nbformat_minor": 2
}
